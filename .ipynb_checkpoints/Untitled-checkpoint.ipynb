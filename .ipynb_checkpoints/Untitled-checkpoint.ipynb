{
 "cells": [
  {
   "cell_type": "markdown",
   "metadata": {},
   "source": [
    "第一次上传到github的一串命令"
   ]
  },
  {
   "cell_type": "code",
   "execution_count": 1,
   "metadata": {},
   "outputs": [
    {
     "name": "stdout",
     "output_type": "stream",
     "text": [
      "初始化空的 Git 版本库于 /home/ming/kk/.git/\n",
      "[master（根提交） 384d1d4] 备注\n",
      " 2 files changed, 82 insertions(+)\n",
      " create mode 100644 .ipynb_checkpoints/Untitled-checkpoint.ipynb\n",
      " create mode 100644 Untitled.ipynb\n",
      "Counting objects: 4, done.\n",
      "Delta compression using up to 2 threads.\n",
      "Compressing objects: 100% (4/4), done.\n",
      "Writing objects: 100% (4/4), 792 bytes | 0 bytes/s, done.\n",
      "Total 4 (delta 0), reused 0 (delta 0)\n",
      "To git@github.com:ii6uu99/note2.git\n",
      " * [new branch]      master -> master\n",
      "# 位于分支 master\n",
      "# 尚未暂存以备提交的变更：\n",
      "#   （使用 \"git add <file>...\" 更新要提交的内容）\n",
      "#   （使用 \"git checkout -- <file>...\" 丢弃工作区的改动）\n",
      "#\n",
      "#\t修改：      Untitled.ipynb\n",
      "#\n",
      "修改尚未加入提交（使用 \"git add\" 和/或 \"git commit -a\"）\n"
     ]
    }
   ],
   "source": [
    "!git init &&git remote add origin git@github.com:ii6uu99/note2.git&&git config --global user.name \"ii6uu99@163.com\"&&git config --global user.email \"ii6uu99@163.com\"&& git add -A && git commit -m \"备注\" &&git push origin master && git status"
   ]
  },
  {
   "cell_type": "code",
   "execution_count": null,
   "metadata": {},
   "outputs": [],
   "source": [
    "######88888"
   ]
  }
 ],
 "metadata": {
  "kernelspec": {
   "display_name": "Python 3",
   "language": "python",
   "name": "python3"
  },
  "language_info": {
   "codemirror_mode": {
    "name": "ipython",
    "version": 3
   },
   "file_extension": ".py",
   "mimetype": "text/x-python",
   "name": "python",
   "nbconvert_exporter": "python",
   "pygments_lexer": "ipython3",
   "version": "3.4.5"
  }
 },
 "nbformat": 4,
 "nbformat_minor": 2
}
